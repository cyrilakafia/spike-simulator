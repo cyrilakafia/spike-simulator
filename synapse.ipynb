{
 "cells": [
  {
   "cell_type": "markdown",
   "id": "b317e4df",
   "metadata": {},
   "source": [
    "## Synapses\n",
    "\n",
    "Providing synaptic input to a neuron is equivalent to implementing $\\sum_{k}{I_k(t)}$\n",
    "\n",
    "$I_{syn}(t) = g_{syn}(t) (V(t)−E_{syn}) \\tag{1}$\n"
   ]
  },
  {
   "cell_type": "markdown",
   "id": "4bb12a6d",
   "metadata": {},
   "source": [
    "The time course of the synaptic conductance can be modelled as an exponential decay\n",
    "\n",
    "$g_{syn}(t) = \\sum_{s}^{S} \\bar g_{max} e^{−(t−t_{s})/τ} \\cdot Θ(t−t_{s}) \\tag{2}$\n",
    "\n",
    "Basically the conductance given a specific time $t$ point and all the incoming spike times $S$\n",
    "\n",
    "This is further broken down into two parts\n",
    "\n",
    "* The conductance at a given time point $t$ and a presynaptic spike time $t_s$ \n",
    "* The conductance at a given time point given by the sum for each spike time\n"
   ]
  },
  {
   "cell_type": "markdown",
   "id": "6c95030a",
   "metadata": {},
   "source": [
    "- $\\tau$ is the decay time constant\n",
    "- $t_{s}$ denotes the arrival time of a presynaptic action potential - $s$ is each presynaptic *spike*.\n",
    "- Θ(x) or $H(x)$ is the Heaviside step function"
   ]
  },
  {
   "cell_type": "code",
   "execution_count": 1,
   "id": "0ea07652",
   "metadata": {},
   "outputs": [],
   "source": [
    "import numpy as np"
   ]
  },
  {
   "cell_type": "code",
   "execution_count": 2,
   "id": "a7475248",
   "metadata": {},
   "outputs": [],
   "source": [
    "def heaviside(x):\n",
    "    \n",
    "    return x >= 0"
   ]
  },
  {
   "cell_type": "markdown",
   "id": "e18ba4c9",
   "metadata": {},
   "source": [
    "## Implementing the synaptic conductance $g_{syn}$"
   ]
  },
  {
   "cell_type": "code",
   "execution_count": 39,
   "id": "addee5d6",
   "metadata": {},
   "outputs": [
    {
     "data": {
      "text/plain": [
       "51.39071664792871"
      ]
     },
     "execution_count": 39,
     "metadata": {},
     "output_type": "execute_result"
    }
   ],
   "source": [
    "e = 2.71828   \n",
    "\n",
    "def g_syn(t, spks, g_max=50, tau=5):\n",
    "    \"\"\"Single exponential conductance decay using equation 2 but limited to a single incoming spike (spk_t)\n",
    "    g_max is in ns\n",
    "    \"\"\"\n",
    "    \n",
    "    total = 0.0\n",
    "    for i in range(len(spks)):\n",
    "        total += g_max * e**(-(t-spks[i])/tau) * float(heaviside(t-spks[i]))\n",
    "    return total\n",
    "\n",
    "t = 40\n",
    "spks = [1.9, 22, 40]\n",
    "\n",
    "g_syn(t, spks)"
   ]
  },
  {
   "cell_type": "code",
   "execution_count": 41,
   "id": "c5509c64",
   "metadata": {},
   "outputs": [],
   "source": [
    "# Excitatory synapse\n",
    "def I_AMPA(t, V_t, spks, g_max=50, tau=4, E=0):\n",
    "    # ns is converted to mA with 1e-3\n",
    "    return 1e-3 * g_syn(t, spks, g_max, tau) * (V_t-E)\n",
    "\n",
    "# Inhibitory synaps\n",
    "def I_GABA(t, V_t, spks, g_max=50, tau=8, E=-70):\n",
    "    return 1e-3*g_syn(t, spks, g_max, tau) * (V_t-E)"
   ]
  },
  {
   "cell_type": "code",
   "execution_count": 46,
   "id": "2d5b0af0",
   "metadata": {},
   "outputs": [
    {
     "name": "stdout",
     "output_type": "stream",
     "text": [
      "I_AMPA(10, -64.2, [1.9, 22, 40]) =  -0.4237 mA\n",
      "I_GABA(10, -64.2, array([2, 8])) =   0.3325 mA\n"
     ]
    }
   ],
   "source": [
    "t = 10    # time point\n",
    "V_t = -64.2     # V_t at t\n",
    "\n",
    "exc_spks = [1.9, 22, 40]    # spike times\n",
    "inh_spks = np.random.randint(0, t, size=2)\n",
    "\n",
    "i_ampa_result = I_AMPA(t, V_t, exc_spks)\n",
    "i_gaba_result = I_GABA(t, V_t, inh_spks)\n",
    "print(f\"I_AMPA{t, V_t, exc_spks} = {i_ampa_result:>8.4f} mA\")\n",
    "print(f\"I_GABA{t, V_t, inh_spks} = {i_gaba_result:>8.4f} mA\")"
   ]
  },
  {
   "cell_type": "code",
   "execution_count": 48,
   "id": "8ec05a04",
   "metadata": {},
   "outputs": [
    {
     "name": "stdout",
     "output_type": "stream",
     "text": [
      "V_t at the start is -63.00 mV\n",
      "V_t after 100.0 ms is -52.79 mV\n"
     ]
    }
   ],
   "source": [
    "# Neuronal parameters\n",
    "V_rest = -65        # resting membrane potential\n",
    "C_m = 1             # membrane capacitance (nF)\n",
    "R_m = 100           # membrane resistance (MOhm)\n",
    "I_e = 0             # external current (nA)\n",
    "A = 10              # surface area of electrode (um^2)\n",
    "\n",
    "# Simulation parameters\n",
    "V_t = V_rest + 2\n",
    "print(f\"V_t at the start is {V_t:.2f} mV\")\n",
    "T = 100             # duration (ms)\n",
    "dt = 0.1            # time step (ms)\n",
    "spks = [1.9]        # a list of spike times (ms)\n",
    "\n",
    "num_iter = round(T/dt)\n",
    "\n",
    "for i in range(num_iter):\n",
    "    t = i*dt      # time to evaluate at\n",
    "    I_leak = (V_t - V_rest)/R_m     # leak current\n",
    "    I_syn = I_GABA(t, V_t, inh_spks) + I_AMPA(t, V_t, exc_spks)  # synaptic input\n",
    "    dV = (-I_leak - I_syn + I_e/A) * dt/C_m\n",
    "    V_t = V_t + dV\n",
    "    \n",
    "print(f\"V_t after {dt*num_iter} ms is {V_t:.2f} mV\")"
   ]
  },
  {
   "cell_type": "markdown",
   "id": "3918288a",
   "metadata": {},
   "source": [
    "## Ions"
   ]
  },
  {
   "cell_type": "code",
   "execution_count": 55,
   "id": "26dd164d",
   "metadata": {},
   "outputs": [
    {
     "data": {
      "text/plain": [
       "['K', 'Na', 'Cl', 'HCO3']"
      ]
     },
     "execution_count": 55,
     "metadata": {},
     "output_type": "execute_result"
    }
   ],
   "source": [
    "C = concentrations = {'K':    {'i':140,'o':  5},\n",
    "                      'Na':   {'i': 15,'o':125},\n",
    "                      'Cl':   {'i':  5,'o':135},\n",
    "                      'HCO3': {'i': 10,'o': 25},\n",
    "                      }\n",
    "\n",
    "ion_names = list(concentrations.keys())\n",
    "ion_names"
   ]
  },
  {
   "cell_type": "markdown",
   "id": "08aea11c",
   "metadata": {},
   "source": [
    "### Reversal Potential\n",
    "\n",
    "The reversal potetial is also known as the Nernst potential. This is the membrane potential at which there is no net (overall) flow of a particular ion from one side of the membrane to the other.\n",
    "\n",
    "For a single ion species, the Nernst potential is used,\n",
    "\n",
    "$ E = \\frac{R \\cdot T}{z \\cdot F} \\cdot \\ln(\\frac{[ion]_{out}}{[ion]_{in}})$\n",
    "\n",
    "Where \n",
    "- $[ion]_{out}$ is the extracellular concentration of that ion (in moles per cubic meter, to match the other SI units, though the units strictly don't matter, as the ion concentration terms become a dimensionless ratio),\n",
    "- $[ion]_{in}$ is the intracellular concentration of that ion (in moles per cubic meter),\n",
    "- R is the ideal gas constant (joules per kelvin per mole),\n",
    "- T is the temperature in kelvins,\n",
    "- F is Faraday's constant (coulombs per mole).\n",
    "- z is the charge of the ion species (e.g. +1 for $Na^+$ and -1 for $Cl^-$)"
   ]
  },
  {
   "cell_type": "code",
   "execution_count": 66,
   "id": "14894b37",
   "metadata": {},
   "outputs": [],
   "source": [
    "\n",
    "# Constants\n",
    "\n",
    "R = 8.314   # Real gas constant (J K^-1 mol^-1)\n",
    "F = 96485   # Faraday constant (C mol^-1)\n",
    "T = 310.25  # Temperature (K)\n",
    "RTF = R*T/F # All treated as constant for the simulations\n",
    "\n",
    "z = valence = {'K': 1, 'Na': 1, 'Cl': -1,'HCO3': -1}"
   ]
  },
  {
   "cell_type": "code",
   "execution_count": 67,
   "id": "d7283247",
   "metadata": {},
   "outputs": [],
   "source": [
    "def nernst_ind(C_out, C_in, sign):\n",
    "    \"\"\"Calculate the Nernst potential (in mV) for given C out, C in, z\n",
    "\n",
    "    >>> round(nernst_ind(135, 5, -1),2)\n",
    "    -88.11\n",
    "    \"\"\"\n",
    "    # note that log is the natural log (base e not base 10)\n",
    "    return RTF/sign * np.log(C_out/C_in)*1000\n",
    "\n",
    "def nernst(ion, conc=None):\n",
    "    \"\"\"Calculate the Nernst potential (in mV) for a given ion.\n",
    "     The ion concentrations are retrieved from the conc dict.\n",
    "     The ion valences are retrieved from the valence dict.\n",
    "\n",
    "     >>> round(nernst('Cl', conc=dict(Cl=dict(i=5, o=135))),2)\n",
    "     -88.11\n",
    "    \"\"\"\n",
    "    if conc is None:\n",
    "        # use global values\n",
    "        conc=concentrations\n",
    "    return nernst_ind(conc[ion]['o'], conc[ion]['i'], valence[ion])"
   ]
  },
  {
   "cell_type": "markdown",
   "id": "424d78de",
   "metadata": {},
   "source": [
    "### Resting membrane potential\n",
    "\n",
    "To calculate the equilibrium potential for section of membrane that is permeable to *multiple* ion species, the Goldman-Hodgkin-Katz (GHK) equation is used.\n",
    "\n",
    "![](https://wikimedia.org/api/rest_v1/media/math/render/svg/e290b78cf2f968293d8dde2a4732c6d22c6d1226)\n",
    "\n",
    "Where \n",
    "- $P$ is the relative permeability of that ion (or selectivity in meters per second)\n",
    "- $M$ are monovalent cations (*positive* ions with a single charge)\n",
    "- $A$ are monovalent anions (*negative* ions with a single charge)"
   ]
  },
  {
   "cell_type": "code",
   "execution_count": 68,
   "id": "bb7e33b3",
   "metadata": {},
   "outputs": [],
   "source": [
    "#-----------------------------\n",
    "# Parameters\n",
    "#-----------------------------\n",
    "# GABAA receptor\n",
    "pcl = 0.8   # Cl permeability\n",
    "phco3 = 0.2 # HCO3 permeability\n",
    "\n",
    "# membrane permeability to ions (multiple values have been found in the lit)\n",
    "pK = 1\n",
    "pNa = 0.05\n",
    "pCl = 0.45\n"
   ]
  },
  {
   "cell_type": "code",
   "execution_count": 69,
   "id": "3c314fcb",
   "metadata": {},
   "outputs": [],
   "source": [
    "def ghk(C_outs, C_ins, ps, zs):\n",
    "    \"\"\"Calculate the potential of given ions using the Goldman–Hodgkin–Katz (GHK)\n",
    "    equation.\n",
    "    >>> round(ghk([4,125,110], [150,15,10], [pK, pNa, pCl], [1,1,-1]),2)\n",
    "    -69.73\n",
    "    \"\"\"\n",
    "    dividend = 0\n",
    "    divisor = 0\n",
    "    for cin, cout, p, z  in zip(C_ins, C_outs, ps, zs):\n",
    "        assert abs(z) == 1, \"only monovalent ions supported\"\n",
    "        if z>0:\n",
    "            dividend += p*cout\n",
    "            divisor += p*cin\n",
    "        else:\n",
    "            dividend += p*cin\n",
    "            divisor += p*cout\n",
    "    return RTF*np.log(dividend/divisor)*1000"
   ]
  },
  {
   "cell_type": "markdown",
   "id": "f05b3daf",
   "metadata": {},
   "source": [
    "\n",
    "#### **1.1**\n",
    "  Experiments have shown that $GABA_A$ can be excitatory ($V_m - E_{GABA} < 0$ ). \n",
    "  \n",
    "  Given \n",
    "  $\\begin{align}\n",
    "  [Cl^-]_o &= 135 mM\\\\\n",
    "  [HCO_3^-]_o &= 25 mM \\\\\n",
    "  [HCO_3^-]_i &= 10 mM \\\\\n",
    "  V_m &= -65 mV\n",
    "  \\end{align}$, what value for $[Cl^-]_i$ elicits a negative *driving force* $(V_m - E_{GABA})$? "
   ]
  },
  {
   "cell_type": "code",
   "execution_count": 175,
   "id": "d0f28cab",
   "metadata": {},
   "outputs": [
    {
     "name": "stdout",
     "output_type": "stream",
     "text": [
      "The value of [Cl-] that elicits a negative driving force of -0.17561269038506566 is >= 10\n"
     ]
    }
   ],
   "source": [
    "x = np.arange(0, 135)\n",
    "z = valence = {'K': 1, 'Na': 1, 'Cl': -1,'HCO3': -1}\n",
    "z = [z['Cl'], z['HCO3']]\n",
    "Vm = -65\n",
    "C_outs = [135, 25]\n",
    "Em_list = []\n",
    "driv_list = []             \n",
    "check = False           # to check if a negative driving force has been achieved\n",
    "\n",
    "for Cl_i in x:\n",
    "    C_ins = [Cl_i,10]\n",
    "    ps = [pcl, phco3]\n",
    "    \n",
    "    Em = ghk(C_outs, C_ins, ps, z)\n",
    "    Em_list.append(Em)\n",
    "    driv_list.append(Vm-Em)\n",
    "    if Vm - Em < 0 and check == False:\n",
    "        print(f'The value of [Cl-] that elicits a negative driving force of {Vm-Em} is >= {Cl_i}')\n",
    "        check = True"
   ]
  },
  {
   "cell_type": "code",
   "execution_count": 184,
   "id": "a4c63e43",
   "metadata": {},
   "outputs": [
    {
     "data": {
      "image/png": "[encoded data removed]",
      "text/plain": [
       "<Figure size 432x288 with 1 Axes>"
      ]
     },
     "metadata": {
      "needs_background": "light"
     },
     "output_type": "display_data"
    }
   ],
   "source": [
    "import matplotlib.pyplot as plt\n",
    "\n",
    "y = np.arange(1, 12)\n",
    "plt.plot(x, driv_list)\n",
    "plt.xlabel('Cl_in')\n",
    "plt.ylabel('Vm - Egaba')\n",
    "\n",
    "plt.axvline(x=10, color='r', linestyle='--')\n",
    "plt.axhline(y=-0.1, color='r', linestyle='--')\n",
    "\n",
    "plt.show()"
   ]
  },
  {
   "cell_type": "code",
   "execution_count": null,
   "id": "a6fcb162",
   "metadata": {},
   "outputs": [],
   "source": []
  }
 ],
 "metadata": {
  "kernelspec": {
   "display_name": "Python 3 (ipykernel)",
   "language": "python",
   "name": "python3"
  },
  "language_info": {
   "codemirror_mode": {
    "name": "ipython",
    "version": 3
   },
   "file_extension": ".py",
   "mimetype": "text/x-python",
   "name": "python",
   "nbconvert_exporter": "python",
   "pygments_lexer": "ipython3",
   "version": "3.9.7"
  }
 },
 "nbformat": 4,
 "nbformat_minor": 5
}
