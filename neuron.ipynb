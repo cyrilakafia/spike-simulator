{
 "cells": [
  {
   "cell_type": "markdown",
   "id": "eeeaca7d",
   "metadata": {},
   "source": [
    "# Implementing a simple spike simulator from scratch"
   ]
  },
  {
   "cell_type": "markdown",
   "id": "6dd47ed7",
   "metadata": {},
   "source": [
    "$C_m \\frac{dV}{dt} = -I_{leak}(t) - \\sum_{k}{I_k(t)} + \\frac{I_e(t)}{A}\n",
    "\\tag{1}$\n",
    "\n",
    "$I_{leak}(t) = \\frac{(V(t) - V_{rest})}{R_m} \\tag{2}$\n",
    "\n",
    "The membrane capacitance equation governs the dynamics of membrane potential. \n",
    "\n",
    "$C_m \\frac{dV}{dt}$ = rate of change of membrane potential w.r.t. time\n",
    "\n",
    "$\\sum_{k}{I_k(t)}$ = all current imputs acting on a neuron at a given time t\n",
    "\n",
    "$-I_{leak}(t)$ = the leak current drives the membrane potential back to its resting potential\n",
    "\n",
    "$\\frac{I_e(t)}{A}$ = external currents applied the the neuron (e.g. injection during experiments)\n",
    "\n",
    "Rearrange equation\n",
    "\n",
    "$\\begin{align}dV &= (-I_{leak}(t) - \\sum_{k}{I_k(t)} + \\frac{I_e(t)}{A}) \\cdot \\frac{dt}{C_m}\n",
    "\\end{align} \\tag{3}$\n",
    "\n",
    "$I_{leak}(t) = \\frac{(V(t) - V_{rest})}{R_m} = \\bar g_{leak}(V(t) - \\bar E_{leak}) \\tag{4}$"
   ]
  },
  {
   "cell_type": "markdown",
   "id": "8dbd7947",
   "metadata": {},
   "source": [
    "\n",
    "For equations above:\n",
    "\n",
    "Math symbol | Variable name | Defined | Comment\n",
    "---    | ---        | --- | ---\n",
    "$V(t)$  | `V_t`     | N | Membrane potential (mV)\n",
    "$dV$  | `dV`      | N | Change in membrane potential (mV)\n",
    "$I_{leak}$ | `I_leak` | N | Leakage current (nA)\n",
    "$I_e$  | `I_e` | N/A | External current (nA)\n",
    "$A$    | `A`   | Y | Surface area of electrode (mm$^2$)\n",
    "$I_k$  | `I_syn` | N/A | Synaptic current (nA)\n",
    "$dt$  | `dt`      | N | Time step (ms)\n",
    "$C_m$  | `C_m`      | Y | Membrane capacitance (nF)\n"
   ]
  },
  {
   "cell_type": "code",
   "execution_count": 1,
   "id": "b6e3ad97",
   "metadata": {},
   "outputs": [],
   "source": [
    "V_rest = -65  # resting membrane potential (mV)\n",
    "C_m = 1       # membrane capacitance (nF)\n",
    "R_m = 100     # membrane resistance (MOhm)\n",
    "I_e = 0       # external current (nA)\n",
    "A = 10        # surface area of electrode (um^2)"
   ]
  },
  {
   "cell_type": "code",
   "execution_count": 3,
   "id": "746fc66a",
   "metadata": {},
   "outputs": [],
   "source": [
    "V_t = V_rest + 2 # this is the initial value of V(t)\n",
    "I_leak = (V_t - V_rest)/R_m"
   ]
  },
  {
   "cell_type": "code",
   "execution_count": 4,
   "id": "c7f7637d",
   "metadata": {},
   "outputs": [],
   "source": [
    "# I_leak can also be calculated like this\n",
    "\n",
    "E_leak= V_rest\n",
    "g_leak = 1/R_m\n",
    "I_leak_alt = g_leak * (V_t - E_leak)"
   ]
  },
  {
   "cell_type": "code",
   "execution_count": 5,
   "id": "e6a34cc7",
   "metadata": {},
   "outputs": [
    {
     "name": "stdout",
     "output_type": "stream",
     "text": [
      "are V_rest and E_leak the same? Answer: True\n"
     ]
    },
    {
     "data": {
      "text/plain": [
       "True"
      ]
     },
     "execution_count": 5,
     "metadata": {},
     "output_type": "execute_result"
    }
   ],
   "source": [
    "# we can check if things are equal to each other using ==\n",
    "print(f\"are V_rest and E_leak the same? Answer: {V_rest == E_leak}\")\n",
    "# remember this last line is outputted to the console automatically\n",
    "g_leak*R_m == 1"
   ]
  },
  {
   "cell_type": "markdown",
   "id": "afd42ff8",
   "metadata": {},
   "source": [
    "## Performing a simulation over time"
   ]
  },
  {
   "cell_type": "code",
   "execution_count": 8,
   "id": "7e91fa06",
   "metadata": {},
   "outputs": [
    {
     "name": "stdout",
     "output_type": "stream",
     "text": [
      "dV = -0.0002 mV\n"
     ]
    }
   ],
   "source": [
    "dt  = 0.01 # ms \n",
    "dV = (-I_leak + I_e) * dt/C_m\n",
    "print(f\"dV = {dV} mV\")"
   ]
  },
  {
   "cell_type": "code",
   "execution_count": 10,
   "id": "7bb4da66",
   "metadata": {},
   "outputs": [
    {
     "name": "stdout",
     "output_type": "stream",
     "text": [
      "V_t at the start is -63.001999999999995\n",
      "iteration number: 0\n",
      "iteration number: 1\n",
      "iteration number: 2\n",
      "iteration number: 3\n",
      "iteration number: 4\n",
      "iteration number: 5\n",
      "iteration number: 6\n",
      "iteration number: 7\n",
      "iteration number: 8\n",
      "iteration number: 9\n",
      "V_t at the end is -63.0040\n"
     ]
    }
   ],
   "source": [
    "print(f\"V_t at the start is {V_t}\")\n",
    "for i in range(10):\n",
    "    print(f\"iteration number: {i}\") # you may want to comment this out if you're doing a bunch of interations\n",
    "    V_t = V_t + dV\n",
    "print(f\"V_t at the end is {V_t:.4f}\")"
   ]
  },
  {
   "cell_type": "code",
   "execution_count": 17,
   "id": "6d620e7e",
   "metadata": {},
   "outputs": [
    {
     "name": "stdout",
     "output_type": "stream",
     "text": [
      "V_t at the start is -63.0000 mV\n",
      "V_t at the end is -65.0000 mV\n"
     ]
    }
   ],
   "source": [
    "#@title I_leak is time-dependent { run: \"auto\", vertical-output: true }\n",
    "num_iter = 4060 #@param {type:\"slider\", min:10, max:10000, step:10}\n",
    "dt = 0.5 #@param {type:\"slider\", min:0, max:1, step:0.005}\n",
    "\n",
    "# because we only define I_leak once, but it depends on V_t, \n",
    "# we need to reassign it in the loop too\n",
    "\n",
    "# TODO: re-define V_t\n",
    "V_t = V_rest + 2\n",
    "print(f\"V_t at the start is {V_t:.4f} mV\")\n",
    "for i in range(num_iter):\n",
    "    # TODO: equation 3\n",
    "    I_leak = (V_t - V_rest)/R_m\n",
    "    # TODO: calculate dV\n",
    "    dV = (-I_leak + I_e) * dt/C_m\n",
    "    V_t = V_t + dV\n",
    "print(f\"V_t at the end is {V_t:.4f} mV\")"
   ]
  },
  {
   "cell_type": "markdown",
   "id": "488682a8",
   "metadata": {},
   "source": [
    "4060 Iterations are need to get the membrane potential V_t to its resting potential V_rest "
   ]
  },
  {
   "cell_type": "code",
   "execution_count": 21,
   "id": "01d0acfd",
   "metadata": {},
   "outputs": [
    {
     "data": {
      "image/png": "[encoded data removed]",
      "text/plain": [
       "<Figure size 432x288 with 1 Axes>"
      ]
     },
     "metadata": {
      "needs_background": "light"
     },
     "output_type": "display_data"
    }
   ],
   "source": [
    "#@title Voltage over time with injected current{ run: \"auto\", vertical-output: true, display-mode: \"form\" }\n",
    "\n",
    "import numpy as np\n",
    "import matplotlib.pyplot as plt\n",
    "\n",
    "num_iter = 5000\n",
    "dt = 0.5 \n",
    "I_e = 0.05\n",
    "start = 500\n",
    "end = 1000\n",
    "I_i1 = start/dt\n",
    "I_i2 = end/dt\n",
    "V_t = V_rest\n",
    "_v = []\n",
    "for i in range(num_iter):\n",
    "    _v.append(V_t)\n",
    "    I_leak = (V_t - V_rest)/R_m\n",
    "    _i_e = I_e  if I_i1 < i < I_i2 else 0\n",
    "    dV = (-I_leak + _i_e) * dt/C_m\n",
    "    V_t = V_t + dV\n",
    "\n",
    "plt.plot(np.arange(0,num_iter*dt,dt),_v, c='k')\n",
    "plt.xlabel(\"Time (ms)\")\n",
    "plt.ylabel(\"Voltage (ms)\")\n",
    "y = plt.ylim()[1]\n",
    "\n",
    "plt.annotate(\"$I_e$\",xy=(end,y),xytext=(start,y), \n",
    "             ha='right', va='center', fontsize=14, c='b',\n",
    "             arrowprops=dict(arrowstyle='-', ec='b', linewidth=5))\n",
    "plt.annotate(\"$V_m$\",xy=(num_iter*dt,_v[-1]), \n",
    "             ha='left', va='center', fontsize=14)\n",
    "ax = plt.gca()\n",
    "for spine in [ax.spines['top'], ax.spines['right']]:\n",
    "    spine.set_visible(False)\n",
    "plt.show()"
   ]
  },
  {
   "cell_type": "markdown",
   "id": "31424ea1",
   "metadata": {},
   "source": [
    "* The current voltage value V_t is appended to the _v list.\n",
    "* The leak current I_leak is calculated\n",
    "* The effective injected current _i_e is determined based on whether the current iteration falls within the specified injection time range (I_i1 < i < I_i2).\n",
    "* The change in voltage dV is calculated based on the leak current and the effective injected current, multiplied by the time step dt and divided by the membrane capacitance (C_m).\n",
    "* The voltage value V_t is updated by adding dV."
   ]
  },
  {
   "cell_type": "code",
   "execution_count": null,
   "id": "8ba92a3f",
   "metadata": {},
   "outputs": [],
   "source": []
  }
 ],
 "metadata": {
  "kernelspec": {
   "display_name": "Python 3 (ipykernel)",
   "language": "python",
   "name": "python3"
  },
  "language_info": {
   "codemirror_mode": {
    "name": "ipython",
    "version": 3
   },
   "file_extension": ".py",
   "mimetype": "text/x-python",
   "name": "python",
   "nbconvert_exporter": "python",
   "pygments_lexer": "ipython3",
   "version": "3.9.7"
  }
 },
 "nbformat": 4,
 "nbformat_minor": 5
}
